{
  "nbformat": 4,
  "nbformat_minor": 0,
  "metadata": {
    "colab": {
      "provenance": [],
      "authorship_tag": "ABX9TyM/VXj8RbNHj0gop8qJe5+v",
      "include_colab_link": true
    },
    "kernelspec": {
      "name": "python3",
      "display_name": "Python 3"
    },
    "language_info": {
      "name": "python"
    }
  },
  "cells": [
    {
      "cell_type": "markdown",
      "metadata": {
        "id": "view-in-github",
        "colab_type": "text"
      },
      "source": [
        "<a href=\"https://colab.research.google.com/github/derek881107/Sentiment-Classification-with-Machine-Learning-Approaches-/blob/main/Sentiment_Classification_with_Machine_Learning_Approaches.ipynb\" target=\"_parent\"><img src=\"https://colab.research.google.com/assets/colab-badge.svg\" alt=\"Open In Colab\"/></a>"
      ]
    },
    {
      "cell_type": "markdown",
      "source": [
        "Code Cell 1: Import Libraries and Load Dataset\n"
      ],
      "metadata": {
        "id": "872V7wO2yCNk"
      }
    },
    {
      "cell_type": "code",
      "execution_count": 2,
      "metadata": {
        "colab": {
          "base_uri": "https://localhost:8080/"
        },
        "id": "jAcpcbde_Ynf",
        "outputId": "8071c0cd-3843-428a-9cb6-ac684370a590"
      },
      "outputs": [
        {
          "output_type": "stream",
          "name": "stdout",
          "text": [
            "Requirement already satisfied: pandas in /usr/local/lib/python3.11/dist-packages (2.2.2)\n",
            "Requirement already satisfied: scikit-learn in /usr/local/lib/python3.11/dist-packages (1.6.1)\n",
            "Requirement already satisfied: vaderSentiment in /usr/local/lib/python3.11/dist-packages (3.3.2)\n",
            "Requirement already satisfied: numpy>=1.23.2 in /usr/local/lib/python3.11/dist-packages (from pandas) (1.26.4)\n",
            "Requirement already satisfied: python-dateutil>=2.8.2 in /usr/local/lib/python3.11/dist-packages (from pandas) (2.8.2)\n",
            "Requirement already satisfied: pytz>=2020.1 in /usr/local/lib/python3.11/dist-packages (from pandas) (2024.2)\n",
            "Requirement already satisfied: tzdata>=2022.7 in /usr/local/lib/python3.11/dist-packages (from pandas) (2025.1)\n",
            "Requirement already satisfied: scipy>=1.6.0 in /usr/local/lib/python3.11/dist-packages (from scikit-learn) (1.13.1)\n",
            "Requirement already satisfied: joblib>=1.2.0 in /usr/local/lib/python3.11/dist-packages (from scikit-learn) (1.4.2)\n",
            "Requirement already satisfied: threadpoolctl>=3.1.0 in /usr/local/lib/python3.11/dist-packages (from scikit-learn) (3.5.0)\n",
            "Requirement already satisfied: requests in /usr/local/lib/python3.11/dist-packages (from vaderSentiment) (2.32.3)\n",
            "Requirement already satisfied: six>=1.5 in /usr/local/lib/python3.11/dist-packages (from python-dateutil>=2.8.2->pandas) (1.17.0)\n",
            "Requirement already satisfied: charset-normalizer<4,>=2 in /usr/local/lib/python3.11/dist-packages (from requests->vaderSentiment) (3.4.1)\n",
            "Requirement already satisfied: idna<4,>=2.5 in /usr/local/lib/python3.11/dist-packages (from requests->vaderSentiment) (3.10)\n",
            "Requirement already satisfied: urllib3<3,>=1.21.1 in /usr/local/lib/python3.11/dist-packages (from requests->vaderSentiment) (2.3.0)\n",
            "Requirement already satisfied: certifi>=2017.4.17 in /usr/local/lib/python3.11/dist-packages (from requests->vaderSentiment) (2024.12.14)\n",
            "Loaded dataset with 10000 rows.\n",
            "                review_id                 user_id             business_id  \\\n",
            "0  IVS7do_HBzroiCiymNdxDg  fdFgZQQYQJeEAshH4lxSfQ  sGy67CpJctjeCWClWqonjA   \n",
            "1  QP2pSzSqpJTMWOCuUuyXkQ  JBLWSXBTKFvJYYiM-FnCOQ  3w7NRntdQ9h0KwDsksIt5Q   \n",
            "2  oK0cGYStgDOusZKz9B1qug  2_9fKnXChUjC5xArfF8BLg  OMnPtRGmbY8qH_wIILfYKA   \n",
            "3  E_ABvFCNVLbfOgRg3Pv1KQ  9MExTQ76GSKhxSWnTS901g  V9XlikTxq0My4gE8LULsjw   \n",
            "4  Rd222CrrnXkXukR2iWj69g  LPxuausjvDN88uPr-Q4cQA  CA5BOxKRDPGJgdUQ8OUOpw   \n",
            "\n",
            "   stars  useful  funny  cool  \\\n",
            "0      3       1      1     0   \n",
            "1      5       1      1     1   \n",
            "2      5       1      0     0   \n",
            "3      5       0      0     0   \n",
            "4      4       1      0     0   \n",
            "\n",
            "                                                text             date  \\\n",
            "0  OK, the hype about having Hatch chili in your ...  1/27/2020 22:59   \n",
            "1  Pandemic pit stop to have an ice cream.... onl...   4/19/2020 5:33   \n",
            "2  I was lucky enough to go to the soft opening a...  2/29/2020 19:43   \n",
            "3  I've gone to claim Jumpers all over the US and...  3/14/2020 21:47   \n",
            "4  If you haven't been  to Maynard's kitchen, it'...  1/17/2020 20:32   \n",
            "\n",
            "   Sentiment  \n",
            "0          1  \n",
            "1          1  \n",
            "2          1  \n",
            "3          1  \n",
            "4          1  \n"
          ]
        }
      ],
      "source": [
        "# Install necessary libraries\n",
        "!pip install pandas scikit-learn vaderSentiment\n",
        "\n",
        "# Import libraries\n",
        "import pandas as pd\n",
        "from vaderSentiment.vaderSentiment import SentimentIntensityAnalyzer\n",
        "from sklearn.model_selection import train_test_split\n",
        "from sklearn.feature_extraction.text import CountVectorizer, TfidfVectorizer\n",
        "from sklearn.naive_bayes import MultinomialNB\n",
        "from sklearn.svm import SVC\n",
        "from sklearn.linear_model import LogisticRegression\n",
        "from sklearn.metrics import classification_report, accuracy_score\n",
        "\n",
        "# Load the dataset\n",
        "# Description: Load the first 10,000 rows of the Yelp review dataset.\n",
        "file_path = '/content/sample_data/restaurant_reviews_az.csv'  # Replace with your dataset path\n",
        "data = pd.read_csv(file_path).head(10000)  # Use the first 10,000 rows\n",
        "print(f\"Loaded dataset with {len(data)} rows.\")\n",
        "print(data.head())\n"
      ]
    },
    {
      "cell_type": "markdown",
      "source": [
        "Code Cell 2: Data Processing and Lexicon-Based Sentiment Analysis"
      ],
      "metadata": {
        "id": "YYW5N7_yyEPK"
      }
    },
    {
      "cell_type": "code",
      "source": [
        "# Perform lexicon-based sentiment analysis using VaderSentiment\n",
        "# Description: Apply VaderSentiment to classify reviews as 'positive' or 'negative'.\n",
        "\n",
        "analyzer = SentimentIntensityAnalyzer()\n",
        "\n",
        "def vader_sentiment(review):\n",
        "    sentiment = analyzer.polarity_scores(review)\n",
        "    return 'positive' if sentiment['compound'] >= 0 else 'negative'\n",
        "\n",
        "# Apply VaderSentiment on the 'text' column\n",
        "data['vader_sentiment'] = data['text'].apply(vader_sentiment)\n",
        "print(data[['text', 'vader_sentiment']].head())\n"
      ],
      "metadata": {
        "id": "N2ixizau_cjz",
        "colab": {
          "base_uri": "https://localhost:8080/"
        },
        "outputId": "49054e59-68a2-4a6f-be49-a7138203ada0"
      },
      "execution_count": 3,
      "outputs": [
        {
          "output_type": "stream",
          "name": "stdout",
          "text": [
            "                                                text vader_sentiment\n",
            "0  OK, the hype about having Hatch chili in your ...        positive\n",
            "1  Pandemic pit stop to have an ice cream.... onl...        positive\n",
            "2  I was lucky enough to go to the soft opening a...        positive\n",
            "3  I've gone to claim Jumpers all over the US and...        positive\n",
            "4  If you haven't been  to Maynard's kitchen, it'...        positive\n"
          ]
        }
      ]
    },
    {
      "cell_type": "markdown",
      "source": [
        "Code Cell 3: Data Preparation for Machine Learning\n"
      ],
      "metadata": {
        "id": "9dHBkbF4yKpL"
      }
    },
    {
      "cell_type": "code",
      "source": [
        "# Data preparation for machine learning\n",
        "# Description: Convert text to numerical features using CountVectorizer and split the dataset\n",
        "# into training and testing sets (80% training, 20% testing).\n",
        "\n",
        "from sklearn.preprocessing import LabelEncoder\n",
        "\n",
        "# Convert review text into Bag of Words representation\n",
        "vectorizer = CountVectorizer(max_features=1000)\n",
        "X = vectorizer.fit_transform(data['text'].fillna('')).toarray()\n",
        "\n",
        "# Encode sentiment labels into numerical values\n",
        "label_encoder = LabelEncoder()\n",
        "y = label_encoder.fit_transform(data['vader_sentiment'])  # positive -> 1, negative -> 0\n",
        "\n",
        "# Split the dataset\n",
        "X_train, X_test, y_train, y_test = train_test_split(X, y, test_size=0.2, random_state=42)\n",
        "\n",
        "print(f\"Training set size: {len(X_train)}, Testing set size: {len(X_test)}\")\n"
      ],
      "metadata": {
        "colab": {
          "base_uri": "https://localhost:8080/"
        },
        "id": "plmlAQ3q_gJV",
        "outputId": "5c9acb03-4936-4c15-fc63-fdf39d6018bf"
      },
      "execution_count": 4,
      "outputs": [
        {
          "output_type": "stream",
          "name": "stdout",
          "text": [
            "Training set size: 8000, Testing set size: 2000\n"
          ]
        }
      ]
    },
    {
      "cell_type": "markdown",
      "source": [
        "Code Cell 4: Describe Processed Data"
      ],
      "metadata": {
        "id": "RXblMYLrybtw"
      }
    },
    {
      "cell_type": "code",
      "source": [
        "# Describe the processed data\n",
        "# Description: Print statistics about the processed data.\n",
        "\n",
        "# Number of tokens (unique words)\n",
        "num_tokens = len(vectorizer.get_feature_names_out())\n",
        "print(f\"Number of tokens (unique words): {num_tokens}\")\n",
        "\n",
        "# Unique customers (if user_id exists)\n",
        "unique_customers = data['user_id'].nunique() if 'user_id' in data.columns else 'N/A'\n",
        "print(f\"Number of unique customers: {unique_customers}\")\n"
      ],
      "metadata": {
        "colab": {
          "base_uri": "https://localhost:8080/"
        },
        "id": "UfB3po6CAnWG",
        "outputId": "d634af67-dd9b-4185-bfb6-dc5ec8e09a49"
      },
      "execution_count": 5,
      "outputs": [
        {
          "output_type": "stream",
          "name": "stdout",
          "text": [
            "Number of tokens (unique words): 1000\n",
            "Number of unique customers: 6830\n"
          ]
        }
      ]
    },
    {
      "cell_type": "markdown",
      "source": [
        "Code Cell 5: Train and Evaluate Naive Bayes Classifier"
      ],
      "metadata": {
        "id": "NQWe73oWyiTK"
      }
    },
    {
      "cell_type": "code",
      "source": [
        "# Train and evaluate Naive Bayes classifier\n",
        "# Description: Train a Multinomial Naive Bayes model and evaluate its performance.\n",
        "\n",
        "nb_model = MultinomialNB()\n",
        "nb_model.fit(X_train, y_train)\n",
        "nb_predictions = nb_model.predict(X_test)\n",
        "\n",
        "print(\"Naive Bayes Performance:\")\n",
        "print(classification_report(y_test, nb_predictions, target_names=['negative', 'positive']))\n"
      ],
      "metadata": {
        "colab": {
          "base_uri": "https://localhost:8080/"
        },
        "id": "URlsYjwwBUV1",
        "outputId": "1d3333d9-6dd9-4576-a9d6-940b724dca7c"
      },
      "execution_count": 6,
      "outputs": [
        {
          "output_type": "stream",
          "name": "stdout",
          "text": [
            "Naive Bayes Performance:\n",
            "              precision    recall  f1-score   support\n",
            "\n",
            "    negative       0.55      0.75      0.63       302\n",
            "    positive       0.95      0.89      0.92      1698\n",
            "\n",
            "    accuracy                           0.87      2000\n",
            "   macro avg       0.75      0.82      0.78      2000\n",
            "weighted avg       0.89      0.87      0.88      2000\n",
            "\n"
          ]
        }
      ]
    },
    {
      "cell_type": "markdown",
      "source": [
        "Code Cell 6: Train and Evaluate SVM Classifier\n"
      ],
      "metadata": {
        "id": "Za_ow73vyrw3"
      }
    },
    {
      "cell_type": "code",
      "source": [
        "# Train and evaluate SVM classifier\n",
        "# Description: Train a Support Vector Machine (SVM) classifier and evaluate its performance.\n",
        "\n",
        "svm_model = SVC()\n",
        "svm_model.fit(X_train, y_train)\n",
        "svm_predictions = svm_model.predict(X_test)\n",
        "\n",
        "print(\"SVM Performance:\")\n",
        "print(classification_report(y_test, svm_predictions, target_names=['negative', 'positive']))\n"
      ],
      "metadata": {
        "colab": {
          "base_uri": "https://localhost:8080/"
        },
        "id": "28SSBgmlJymt",
        "outputId": "bc4021dc-f26d-4726-d2f9-da876325b4fe"
      },
      "execution_count": 7,
      "outputs": [
        {
          "output_type": "stream",
          "name": "stdout",
          "text": [
            "SVM Performance:\n",
            "              precision    recall  f1-score   support\n",
            "\n",
            "    negative       0.73      0.37      0.49       302\n",
            "    positive       0.90      0.98      0.93      1698\n",
            "\n",
            "    accuracy                           0.88      2000\n",
            "   macro avg       0.81      0.67      0.71      2000\n",
            "weighted avg       0.87      0.88      0.87      2000\n",
            "\n"
          ]
        }
      ]
    },
    {
      "cell_type": "markdown",
      "source": [
        "Code Cell 7: Reload Data and Perform TF-IDF Vectorization"
      ],
      "metadata": {
        "id": "D_w3DFmAyyFm"
      }
    },
    {
      "cell_type": "code",
      "source": [
        "# Reload data and apply TF-IDF vectorization\n",
        "# Description: Convert text data to TF-IDF representation for Logistic Regression.\n",
        "\n",
        "tfidf_vectorizer = TfidfVectorizer(max_features=1000)\n",
        "X_tfidf = tfidf_vectorizer.fit_transform(data['text'].fillna('')).toarray()\n",
        "X_train_tfidf, X_test_tfidf, y_train_tfidf, y_test_tfidf = train_test_split(\n",
        "    X_tfidf, y, test_size=0.2, random_state=42)\n"
      ],
      "metadata": {
        "id": "teLJkpNQJ4l6"
      },
      "execution_count": 8,
      "outputs": []
    },
    {
      "cell_type": "markdown",
      "source": [
        "Code Cell 8: Train and Evaluate Logistic Regression Classifier\n"
      ],
      "metadata": {
        "id": "C0QTnzc6y1It"
      }
    },
    {
      "cell_type": "code",
      "source": [
        "# Train and evaluate Logistic Regression classifier\n",
        "# Description: Train a Logistic Regression model using TF-IDF features and evaluate its performance.\n",
        "\n",
        "lr_model = LogisticRegression(max_iter=1000)\n",
        "lr_model.fit(X_train_tfidf, y_train_tfidf)\n",
        "lr_predictions = lr_model.predict(X_test_tfidf)\n",
        "\n",
        "print(\"Logistic Regression Performance:\")\n",
        "print(classification_report(y_test_tfidf, lr_predictions, target_names=['negative', 'positive']))\n"
      ],
      "metadata": {
        "colab": {
          "base_uri": "https://localhost:8080/"
        },
        "id": "QiCR_ZspJ65_",
        "outputId": "98cdf0c5-4ee7-471e-a862-71f815f76460"
      },
      "execution_count": 9,
      "outputs": [
        {
          "output_type": "stream",
          "name": "stdout",
          "text": [
            "Logistic Regression Performance:\n",
            "              precision    recall  f1-score   support\n",
            "\n",
            "    negative       0.78      0.53      0.63       302\n",
            "    positive       0.92      0.97      0.95      1698\n",
            "\n",
            "    accuracy                           0.91      2000\n",
            "   macro avg       0.85      0.75      0.79      2000\n",
            "weighted avg       0.90      0.91      0.90      2000\n",
            "\n"
          ]
        }
      ]
    },
    {
      "cell_type": "markdown",
      "source": [
        "Text Cell 9: Compare and Conclude Observations"
      ],
      "metadata": {
        "id": "8Eyv_e3Py5bw"
      }
    },
    {
      "cell_type": "markdown",
      "source": [
        "Comparison:\n",
        "1. VaderSentiment is quick and effective for lexicon-based sentiment analysis but lacks adaptability for nuanced datasets.\n",
        "2. Naive Bayes and SVM offer competitive performance but require proper feature engineering.\n",
        "3. Logistic Regression with TF-IDF features demonstrates robust performance and adaptability.\n"
      ],
      "metadata": {
        "id": "cWJgEDmp0F31"
      }
    },
    {
      "cell_type": "markdown",
      "source": [
        "Code Cell 10: Predict Sentiments for Input 2\n",
        "\n",
        "\n",
        "\n"
      ],
      "metadata": {
        "id": "jHUg1rQkzBm3"
      }
    },
    {
      "cell_type": "code",
      "source": [
        "# Predict sentiments for new reviews\n",
        "# Description: Predict sentiment on new input reviews using the trained Logistic Regression model.\n",
        "\n",
        "# Input new reviews for prediction\n",
        "input_2_reviews = [\n",
        "    \"The service is good, but location is hard to find. Sanitation is not very good with old facilities. Food served tasted bad and extremely fishy, making us difficult to even finish it.\",\n",
        "    \"The restaurant is definitely one of my favorites and of my family as well. The food is absolutely delicious!\",\n",
        "    \"I appreciated the friendly staff. The food was good, not amazing. The service was not prompt but acceptable.\"\n",
        "]\n",
        "\n",
        "# Preprocess the new reviews and transform them using the TF-IDF vectorizer\n",
        "input_2_features = tfidf_vectorizer.transform(input_2_reviews).toarray()\n",
        "\n",
        "# Predict sentiments using the Logistic Regression model\n",
        "input_2_predictions = lr_model.predict(input_2_features)\n",
        "\n",
        "# Output the predictions with proper interpretation\n",
        "print(\"Input 2 Predictions:\")\n",
        "for review, sentiment in zip(input_2_reviews, input_2_predictions):\n",
        "    # Correctly map sentiment labels\n",
        "    mapped_sentiment = \"Positive\" if sentiment == 1 else \"Negative\"\n",
        "    print(f\"Review: {review}\\nPredicted Sentiment: {mapped_sentiment}\\n\")\n"
      ],
      "metadata": {
        "colab": {
          "base_uri": "https://localhost:8080/"
        },
        "id": "kGR2-1S6J_1I",
        "outputId": "ae7af39e-52c2-43cf-d815-89ecae1dc645"
      },
      "execution_count": 25,
      "outputs": [
        {
          "output_type": "stream",
          "name": "stdout",
          "text": [
            "Input 2 Predictions:\n",
            "Review: The service is good, but location is hard to find. Sanitation is not very good with old facilities. Food served tasted bad and extremely fishy, making us difficult to even finish it.\n",
            "Predicted Sentiment: Negative\n",
            "\n",
            "Review: The restaurant is definitely one of my favorites and of my family as well. The food is absolutely delicious!\n",
            "Predicted Sentiment: Positive\n",
            "\n",
            "Review: I appreciated the friendly staff. The food was good, not amazing. The service was not prompt but acceptable.\n",
            "Predicted Sentiment: Positive\n",
            "\n"
          ]
        }
      ]
    },
    {
      "cell_type": "markdown",
      "source": [
        "Text Cell 11: Classify and Comment"
      ],
      "metadata": {
        "id": "WwnCBER2zGw3"
      }
    },
    {
      "cell_type": "code",
      "source": [
        "\n",
        "print(\"\\nClassification Results and Reasoning:\")\n",
        "input_2_reviews = [\n",
        "    \"The service is good, but location is hard to find. Sanitation is not very good with old facilities. Food served bad and tasted extremely fishy, making us difficult to even finish it.\",\n",
        "    \"The restaurant is definitely one of my favorites and of my family as well. The food is absolutely delicious!\",\n",
        "    \"I appreciated the friendly staff. The food was good, not amazing. The service was not prompt but acceptable.\"\n",
        "]\n",
        "\n",
        "# Predicted sentiments for the reviews\n",
        "input_2_predictions = lr_model.predict(input_2_features)\n",
        "\n",
        "for i, (review, sentiment) in enumerate(zip(input_2_reviews, input_2_predictions)):\n",
        "    print(f\"Review {i+1}: {review}\")\n",
        "    if label_encoder.inverse_transform([sentiment])[0] == 'negative':\n",
        "        print(\"Predicted Sentiment: Negative\")\n",
        "        if i == 0:\n",
        "            print(\"Reasoning: The review highlights significant negative aspects such as poor sanitation, unappealing food, and hard-to-find location. These factors outweighed any positive comments.\")\n",
        "    elif label_encoder.inverse_transform([sentiment])[0] == 'positive':\n",
        "        print(\"Predicted Sentiment: Positive\")\n",
        "        if i == 1:\n",
        "            print(\"Reasoning: The review is entirely positive, focusing on favorite status and delicious food, reflecting a strong positive sentiment.\")\n",
        "        elif i == 2:\n",
        "            print(\"Reasoning: Despite minor criticisms, the review's overall tone is positive, emphasizing friendly staff and acceptable service.\")\n",
        "    print(\"\\n\")\n"
      ],
      "metadata": {
        "colab": {
          "base_uri": "https://localhost:8080/"
        },
        "id": "zHsPBFTXKyEP",
        "outputId": "96ed6e46-d462-4831-a48c-b4dc6b10359a"
      },
      "execution_count": 26,
      "outputs": [
        {
          "output_type": "stream",
          "name": "stdout",
          "text": [
            "\n",
            "Classification Results and Reasoning:\n",
            "Review 1: The service is good, but location is hard to find. Sanitation is not very good with old facilities. Food served bad and tasted extremely fishy, making us difficult to even finish it.\n",
            "Predicted Sentiment: Negative\n",
            "Reasoning: The review highlights significant negative aspects such as poor sanitation, unappealing food, and hard-to-find location. These factors outweighed any positive comments.\n",
            "\n",
            "\n",
            "Review 2: The restaurant is definitely one of my favorites and of my family as well. The food is absolutely delicious!\n",
            "Predicted Sentiment: Positive\n",
            "Reasoning: The review is entirely positive, focusing on favorite status and delicious food, reflecting a strong positive sentiment.\n",
            "\n",
            "\n",
            "Review 3: I appreciated the friendly staff. The food was good, not amazing. The service was not prompt but acceptable.\n",
            "Predicted Sentiment: Positive\n",
            "Reasoning: Despite minor criticisms, the review's overall tone is positive, emphasizing friendly staff and acceptable service.\n",
            "\n",
            "\n"
          ]
        }
      ]
    },
    {
      "cell_type": "markdown",
      "source": [
        "Text Cell 12: Acknowledgment"
      ],
      "metadata": {
        "id": "6Oza9xdLzvbI"
      }
    },
    {
      "cell_type": "code",
      "source": [
        "# Description: Acknowledge the use of GenAI tools and collaboration during the assignment.\n",
        "\n",
        "print(\"\\nAcknowledgment:\")\n",
        "print(\"This assignment was completed with the support of GenAI tools and collaboration with peers. GenAI assisted in refining coding practices, debugging, and clarifying explanations.\")\n",
        "print(\"Special thanks to the instructional team for their guidance and to classmates for their insightful discussions, which significantly contributed to the success of this project.\")\n"
      ],
      "metadata": {
        "colab": {
          "base_uri": "https://localhost:8080/"
        },
        "id": "CdcrdFK3K1BH",
        "outputId": "4ac8a946-8f67-4eb7-8cb1-7dffeee42d25"
      },
      "execution_count": 12,
      "outputs": [
        {
          "output_type": "stream",
          "name": "stdout",
          "text": [
            "\n",
            "Acknowledgment:\n",
            "This assignment was completed with the support of GenAI tools and collaboration with peers. GenAI assisted in refining coding practices, debugging, and clarifying explanations.\n",
            "Special thanks to the instructional team for their guidance and to classmates for their insightful discussions, which significantly contributed to the success of this project.\n"
          ]
        }
      ]
    }
  ]
}